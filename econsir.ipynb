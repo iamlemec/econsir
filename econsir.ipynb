{
 "cells": [
  {
   "cell_type": "code",
   "execution_count": 0,
   "metadata": {},
   "outputs": [],
   "source": [
    "import os\n",
    "os.environ['TF_DETERMINISTIC_OPS'] = '1'\n",
    "os.environ['TF_CUDNN_DETERMINISTIC'] = '1'"
   ]
  },
  {
   "cell_type": "code",
   "execution_count": 0,
   "metadata": {},
   "outputs": [],
   "source": [
    "import econsir as es\n",
    "import numpy as np\n",
    "import pandas as pd"
   ]
  },
  {
   "cell_type": "markdown",
   "metadata": {},
   "source": [
    "### Simulate"
   ]
  },
  {
   "cell_type": "code",
   "execution_count": 0,
   "metadata": {},
   "outputs": [],
   "source": [
    "T0 = 300\n",
    "K0 = 1000"
   ]
  },
  {
   "cell_type": "code",
   "execution_count": 0,
   "metadata": {},
   "outputs": [],
   "source": [
    "# make random start times\n",
    "start = np.random.randint(10, 30, size=K0)\n",
    "imp0 = es.one_hot(start, value=1/1e6, T=T0)"
   ]
  },
  {
   "cell_type": "code",
   "execution_count": 0,
   "metadata": {},
   "outputs": [],
   "source": [
    "# set up parameters\n",
    "par0 = es.load_args('params/default.toml')\n",
    "par0['β'] = np.random.lognormal(np.log(par0['β']), 0.1, size=K0)\n",
    "par0['ψ'] = np.random.lognormal(np.log(par0['ψ']), 0.1, size=K0)"
   ]
  },
  {
   "cell_type": "code",
   "execution_count": 0,
   "metadata": {},
   "outputs": [],
   "source": [
    "pol0 = {'zb': 0.8, 'zc': 30.0}\n",
    "sim0, _ = es.simulate_path(par0, pol0, imp=imp0, K=K0, T=T0)"
   ]
  },
  {
   "cell_type": "code",
   "execution_count": 0,
   "metadata": {},
   "outputs": [],
   "source": [
    "ch = es.outcome_summary(sim0)\n",
    "ch.save('output/simul.svg')\n",
    "ch"
   ]
  },
  {
   "cell_type": "markdown",
   "metadata": {},
   "source": [
    "### Load Data"
   ]
  },
  {
   "cell_type": "code",
   "execution_count": 0,
   "metadata": {},
   "outputs": [],
   "source": [
    "data = es.load_data('data/panel_usa.csv', min_date='2020-02-15', min_pop=50_000)\n",
    "data_df = es.framify(data, data['date'], data['fips'])"
   ]
  },
  {
   "cell_type": "code",
   "execution_count": 0,
   "metadata": {},
   "outputs": [],
   "source": [
    "T, K = data['T'], data['K']\n",
    "wgt, fips = data['wgt'], data['fips']\n",
    "dates = data['date']\n",
    "print(T, K)"
   ]
  },
  {
   "cell_type": "code",
   "execution_count": 0,
   "metadata": {},
   "outputs": [],
   "source": [
    "es.outcome_summary(data_df, ao_lim=120, wgt=wgt)"
   ]
  },
  {
   "cell_type": "markdown",
   "metadata": {},
   "source": [
    "### Estimate"
   ]
  },
  {
   "cell_type": "code",
   "execution_count": 0,
   "metadata": {},
   "outputs": [],
   "source": [
    "# set up parameters\n",
    "par = es.load_args('params/default.toml')\n",
    "par['β'] = np.ones(K)*par['β']\n",
    "par['ψ'] = np.ones(K)*par['ψ']\n",
    "par['ϝ'] = 20.0"
   ]
  },
  {
   "cell_type": "code",
   "execution_count": 0,
   "metadata": {},
   "outputs": [],
   "source": [
    "hard = {'ρ': 0.15, 'ψ0': 1.0, 'ψr': 0.0}\n",
    "par_est = es.estimate(par, data, hard_params=hard, R=1000, per=250)"
   ]
  },
  {
   "cell_type": "code",
   "execution_count": 0,
   "metadata": {},
   "outputs": [],
   "source": [
    "es.save_args(par_est, 'params/estim.toml')"
   ]
  },
  {
   "cell_type": "code",
   "execution_count": 0,
   "metadata": {},
   "outputs": [],
   "source": [
    "pol_est = {'zb': es.calc_zbar(par, data), 'zc': 0, 'kz': 0, 'vx': 0}\n",
    "sim_est, st1_est = es.simulate_path(par_est, pol=pol_est, imp=data['imp'], locs=data['fips'], T=T, K=K)\n",
    "es.outcome_summary(sim_est, wgt=wgt)"
   ]
  },
  {
   "cell_type": "markdown",
   "metadata": {},
   "source": [
    "### Optimal Policy"
   ]
  },
  {
   "cell_type": "code",
   "execution_count": 0,
   "metadata": {},
   "outputs": [],
   "source": [
    "T1 = 365\n",
    "date_opt = dates[-1]"
   ]
  },
  {
   "cell_type": "code",
   "execution_count": 0,
   "metadata": {},
   "outputs": [],
   "source": [
    "hard_pol = {'kz': 100.0, 'vx': 0.0}\n",
    "pol_init = {'zb': 1.0, 'zc': 20.0}\n",
    "pol_opt = es.optimal_policy(\n",
    "    pol_init, par_est, st0=st1_est, wgt=wgt, T=T1, K=K,\n",
    "    hard_policy=hard_pol, long_run=True,\n",
    ")"
   ]
  },
  {
   "cell_type": "code",
   "execution_count": 0,
   "metadata": {},
   "outputs": [],
   "source": [
    "print(es.eval_policy(hard_pol, par_est, st0=st1_est, wgt=wgt, T=4*T1, K=K))\n",
    "print(es.eval_policy(pol_opt, par_est, st0=st1_est, wgt=wgt, T=T1, K=K))"
   ]
  },
  {
   "cell_type": "code",
   "execution_count": 0,
   "metadata": {},
   "outputs": [],
   "source": [
    "sim_opt, _ = es.simulate_path(par_est, pol_opt, st0=st1_est, locs=fips, T=120, K=K, date=date_opt)\n",
    "es.outcome_summary(sim_opt, wgt=wgt)"
   ]
  },
  {
   "cell_type": "code",
   "execution_count": 0,
   "metadata": {},
   "outputs": [],
   "source": []
  }
 ],
 "metadata": {
  "kernelspec": {
   "display_name": "Python 3.8",
   "language": "python",
   "name": "python3.8"
  },
  "language_info": {
   "codemirror_mode": {
    "name": "ipython",
    "version": 3
   },
   "file_extension": ".py",
   "mimetype": "text/x-python",
   "name": "python",
   "nbconvert_exporter": "python",
   "pygments_lexer": "ipython3",
   "version": "3.8.6rc1"
  }
 },
 "nbformat": 4,
 "nbformat_minor": 4
}